{
 "cells": [
  {
   "cell_type": "code",
   "execution_count": 1,
   "metadata": {},
   "outputs": [],
   "source": [
    "from astropy.io import fits\n",
    "import matplotlib.pyplot as plt\n",
    "import numpy as np\n",
    "import matplotlib.pyplot as plt\n",
    "from astropy.io import fits\n",
    "from scipy.interpolate import interp1d\n",
    "from NonnegMFPy import nmf\n",
    "from astropy.modeling import models\n",
    "import astropy.units as u\n",
    "import functools\n",
    "from scipy.optimize import minimize\n",
    "from astropy.stats import sigma_clip\n",
    "from scipy import ndimage, misc"
   ]
  },
  {
   "cell_type": "code",
   "execution_count": 2,
   "metadata": {},
   "outputs": [],
   "source": [
    "# plotting setting\n",
    "plt.rcParams['xtick.direction'] = 'in'\n",
    "plt.rcParams['ytick.direction'] = 'in'\n",
    "plt.rcParams['mathtext.fontset']='stix'\n",
    "plt.rcParams['lines.linewidth'] = 1\n",
    "plt.rcParams['xtick.labelsize'] = 16\n",
    "plt.rcParams['ytick.labelsize'] = 16\n",
    "plt.rcParams['axes.labelsize'] = 20\n",
    "plt.rcParams['axes.titlesize'] = 20\n",
    "plt.rcParams['xtick.direction'] = 'in'\n",
    "plt.rcParams['ytick.direction'] = 'in'\n",
    "plt.rcParams['xtick.minor.visible'] = True\n",
    "plt.rcParams['ytick.minor.visible'] = True\n",
    "plt.rcParams['xtick.major.size'] = 8\n",
    "plt.rcParams['ytick.major.size'] = 8\n",
    "plt.rcParams['xtick.minor.size'] = 4\n",
    "plt.rcParams['ytick.minor.size'] = 4\n",
    "plt.rcParams['xtick.major.width'] = 2\n",
    "plt.rcParams['ytick.major.width'] = 2\n",
    "plt.rcParams['xtick.minor.width'] = 2\n",
    "plt.rcParams['ytick.minor.width'] = 2\n",
    "plt.rcParams['xtick.top'] = True\n",
    "plt.rcParams['ytick.right'] = True\n",
    "plt.rcParams['axes.spines.bottom']=True\n",
    "plt.rcParams['axes.spines.top']=True\n",
    "plt.rcParams['axes.spines.left']=True\n",
    "plt.rcParams['axes.spines.right']=True\n",
    "plt.rcParams['xtick.bottom']=True\n",
    "plt.rcParams['xtick.labelbottom']=True\n",
    "plt.rcParams['ytick.left']=True\n",
    "plt.rcParams['ytick.labelleft']=True"
   ]
  },
  {
   "cell_type": "markdown",
   "metadata": {},
   "source": [
    "# SDSS sample selection\n",
    "## wavelength coverage: $3600 \\sim 10400 {\\rm \\overset{\\circ}{A}}$\n",
    "\n",
    "## Lya $1216 {\\rm \\overset{\\circ}{A}}$, $z_{\\rm min} \\approx \\frac{3600}{1216} - 1=1.96$\n",
    "## MgII $2796, 2803 {\\rm \\overset{\\circ}{A}}$, $z_{\\rm max} \\approx \\frac{10400}{2803} - 1 = 2.7$\n",
    "\n",
    "### The redshift range is 1.96 - 2.7\n",
    "\n",
    "## ref: Davies+18 $(2.09<z_{\\rm pipe}<2.51)$\n",
    "* https://ui.adsabs.harvard.edu/abs/2018ApJ...864..143D/abstract\n",
    "* BAL_FLAG_VI = 0 (reject BAL QSOs) \n",
    "* ZWARNING=0(avoid objects with high uncertain redshifts)\n",
    "\n",
    "### In DR 16 catalog: BAL_FLAG_VI = 0 <=> Lyke+2020 BAL_PROB = 0 \n"
   ]
  },
  {
   "cell_type": "code",
   "execution_count": 3,
   "metadata": {},
   "outputs": [],
   "source": [
    "DR16Q = fits.open('DR16Q_v4.fits')"
   ]
  },
  {
   "cell_type": "code",
   "execution_count": 4,
   "metadata": {},
   "outputs": [],
   "source": [
    "z_pipe = DR16Q[1].data['Z_PIPE']\n",
    "BAL_PROB = DR16Q[1].data['BAL_PROB']\n",
    "zwarning = DR16Q[1].data['ZWARNING']\n",
    "plate = DR16Q[1].data['PLATE']\n",
    "mjd = DR16Q[1].data['MJD']\n",
    "fiberid = DR16Q[1].data['FIBERID']"
   ]
  },
  {
   "cell_type": "code",
   "execution_count": 5,
   "metadata": {},
   "outputs": [],
   "source": [
    "critreia = ((z_pipe>2.09) & (z_pipe<2.51) & (BAL_PROB==0) & (zwarning==0))\n",
    "useful_indices = np.where(critreia)"
   ]
  },
  {
   "cell_type": "code",
   "execution_count": 6,
   "metadata": {},
   "outputs": [],
   "source": [
    "f = open('QSO_list.txt', 'w')\n",
    "for i in useful_indices[0]:\n",
    "    test_fiber_id = '%s' % fiberid[i]\n",
    "    if len(test_fiber_id) == 1:\n",
    "        test_fiber_id = '000' + test_fiber_id\n",
    "    elif len(test_fiber_id) == 2:\n",
    "        test_fiber_id = '00' + test_fiber_id\n",
    "    elif len(test_fiber_id) == 3:\n",
    "        test_fiber_id = '0' + test_fiber_id\n",
    "    else:\n",
    "        test_fiber_id = test_fiber_id\n",
    "    name = '%s/spec-%s-%s-%s.fits\\t %f\\n' % (plate[i],plate[i], mjd[i], test_fiber_id, z_pipe[i])\n",
    "    f.write(name)\n",
    "f.close()"
   ]
  }
 ],
 "metadata": {
  "kernelspec": {
   "display_name": "Python 3",
   "language": "python",
   "name": "python3"
  },
  "language_info": {
   "codemirror_mode": {
    "name": "ipython",
    "version": 3
   },
   "file_extension": ".py",
   "mimetype": "text/x-python",
   "name": "python",
   "nbconvert_exporter": "python",
   "pygments_lexer": "ipython3",
   "version": "3.8.3"
  }
 },
 "nbformat": 4,
 "nbformat_minor": 4
}
